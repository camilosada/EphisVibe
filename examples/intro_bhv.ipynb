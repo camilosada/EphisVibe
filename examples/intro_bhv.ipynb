{
 "cells": [
  {
   "cell_type": "code",
   "execution_count": 289,
   "metadata": {},
   "outputs": [],
   "source": [
    "# Camila Losada - 05/02/2025"
   ]
  },
  {
   "cell_type": "markdown",
   "metadata": {},
   "source": [
    "## Example on how to use BhvData structure"
   ]
  },
  {
   "cell_type": "code",
   "execution_count": 290,
   "metadata": {},
   "outputs": [],
   "source": [
    "# Import libraries\n",
    "from ephysvibe.structures.bhv_data import BhvData\n",
    "from ephysvibe.task.task_constants import EVENTS_B1\n",
    "import numpy as np\n",
    "from matplotlib import pyplot as plt\n",
    "\n",
    "import platform\n",
    "import glob"
   ]
  },
  {
   "cell_type": "code",
   "execution_count": 291,
   "metadata": {},
   "outputs": [],
   "source": [
    "if platform.system() == 'Linux':\n",
    "    basepath = '/envau/work/invibe/USERS/IBOS/data/Riesling/TSCM/OpenEphys/new_structure'\n",
    "elif platform.system() == 'Windows':\n",
    "    basepath = '//envau_cifs.intlocal.univ-amu.fr/work/invibe/USERS/IBOS/data/Riesling/TSCM/OpenEphys/new_structure'"
   ]
  },
  {
   "cell_type": "code",
   "execution_count": 292,
   "metadata": {},
   "outputs": [
    {
     "data": {
      "text/plain": [
       "['//envau_cifs.intlocal.univ-amu.fr/work/invibe/USERS/IBOS/data/Riesling/TSCM/OpenEphys/new_structure/session_struct/bhv\\\\2022-11-22_10-59-03_Riesling_e1_r1_bhv.h5',\n",
       " '//envau_cifs.intlocal.univ-amu.fr/work/invibe/USERS/IBOS/data/Riesling/TSCM/OpenEphys/new_structure/session_struct/bhv\\\\2023-10-06_10-38-57_Riesling_e1_r1_bhv.h5',\n",
       " '//envau_cifs.intlocal.univ-amu.fr/work/invibe/USERS/IBOS/data/Riesling/TSCM/OpenEphys/new_structure/session_struct/bhv\\\\2022-11-28_10-23-27_Riesling_e1_r1_bhv.h5']"
      ]
     },
     "execution_count": 292,
     "metadata": {},
     "output_type": "execute_result"
    }
   ],
   "source": [
    "area='lip'\n",
    "subpath = f'/session_struct/bhv'\n",
    "path_list = glob.glob(f'{basepath}{subpath}/*')\n",
    "path_list[:3]"
   ]
  },
  {
   "cell_type": "code",
   "execution_count": null,
   "metadata": {},
   "outputs": [],
   "source": [
    "# filepath = \"/2023-03-16_10-20-01_Riesling_e1_r1_bhv.h5\" \n",
    "# bhv = BhvData.from_python_hdf5(f'{basepath}{subpath}{filepath}') # read bhv data\n",
    "bhv = BhvData.from_python_hdf5(path_list[0])"
   ]
  },
  {
   "cell_type": "code",
   "execution_count": 359,
   "metadata": {},
   "outputs": [
    {
     "data": {
      "text/plain": [
       "dict_keys(['block', 'code_numbers', 'code_times', 'condition', 'eye_ml', 'fix_fp_t_time', 'fix_fp_post_t_time', 'fix_fp_pre_t_time', 'fix_close', 'fix_far', 'iti', 'stim_match', 'pos_code', 'position', 'reward_plus', 'test_distractor', 'test_stimuli', 'sample_id', 'stim_total', 'trial_error', 'closeexc', 'delay_time', 'excentricity', 'farexc', 'fix_post_sacc_blank', 'fix_time', 'fix_window_radius', 'idletime3', 'max_reaction_time', 'rand_delay_time', 'reward_dur', 'sample_time', 'stay_time', 'test_time', 'wait_for_fix', 'date_time', 'subject', 'experiment', 'recording', 'code_samples', 'end_trials', 'start_trials'])"
      ]
     },
     "execution_count": 359,
     "metadata": {},
     "output_type": "execute_result"
    }
   ],
   "source": [
    "bhv.__dict__.keys()"
   ]
  },
  {
   "cell_type": "code",
   "execution_count": 360,
   "metadata": {},
   "outputs": [
    {
     "name": "stdout",
     "output_type": "stream",
     "text": [
      "subject: Riesling\n",
      "date_time: 2022-11-22_10-59-03\n"
     ]
    }
   ],
   "source": [
    "# General information about the session\n",
    "print(f'subject: {bhv.subject}')\n",
    "print(f'date_time: {bhv.date_time}')"
   ]
  },
  {
   "cell_type": "code",
   "execution_count": 361,
   "metadata": {},
   "outputs": [
    {
     "name": "stdout",
     "output_type": "stream",
     "text": [
      "block: [2. 2. 2. ... 1. 1. 1.]\n",
      "Number of trials: 1412\n",
      "Number of trials in block 1: 1308\n",
      "Number of trials in block 2: 104\n",
      "Number of correct trials: 654\n",
      "Number of correct trials in block 1: 574\n",
      "Number of correct trials in block 2: 80\n"
     ]
    }
   ],
   "source": [
    "# Behavioural information\n",
    "print(f'block: {bhv.block}')\n",
    "mask_b1 = bhv.block==1 # DMTS\n",
    "mask_b2 = bhv.block==2 # Saccade\n",
    "print(f'Number of trials: {len(bhv.block)}')\n",
    "print(f'Number of trials in block 1: {np.sum(mask_b1)}')\n",
    "print(f'Number of trials in block 2: {np.sum(mask_b2)}')\n",
    "## Check number of correct trials (error = 0)\n",
    "mask_err0 = bhv.trial_error==0\n",
    "print(f'Number of correct trials: {np.sum(mask_err0)}')\n",
    "print(f'Number of correct trials in block 1: {np.sum(np.logical_and(mask_err0,mask_b1))}')\n",
    "print(f'Number of correct trials in block 2: {np.sum(np.logical_and(mask_err0,mask_b2))}')"
   ]
  },
  {
   "cell_type": "code",
   "execution_count": 362,
   "metadata": {},
   "outputs": [
    {
     "name": "stdout",
     "output_type": "stream",
     "text": [
      "possible samples: [nan]\n",
      "possible sample location: [120. 121. 122. 123. 124. 125. 126. 127.]\n",
      "\n",
      "information about the first 5 trials:\n",
      "sample location (104,): [122. 121. 124. 122. 126.]\n",
      "events code (104, 20): \n",
      "[[  9.  35.   8.  37. 122.  38.  36.  10.  10.  10.  40.  56.  18.  nan\n",
      "   nan  nan  nan  nan  nan  nan]\n",
      " [  9.  35.   8.  50.  36.  18.  nan  nan  nan  nan  nan  nan  nan  nan\n",
      "   nan  nan  nan  nan  nan  nan]\n",
      " [  9.  35.   8.  37. 124.  38.  36.  10.  10.  10.  40.  56.  18.  nan\n",
      "   nan  nan  nan  nan  nan  nan]\n",
      " [  9.  35.   8.  37. 122.  38.  36.  10.  10.  10.  40.  56.  18.  nan\n",
      "   nan  nan  nan  nan  nan  nan]\n",
      " [  9.  35.   8.  37. 126.  38.  51.  36.  38.  18.  nan  nan  nan  nan\n",
      "   nan  nan  nan  nan  nan  nan]]\n",
      "events time (104, 20): \n",
      "[[ 9707.  9722.  9860. 10216. 10217. 10334. 11346. 11657. 11959. 11969.\n",
      "  12028. 12233. 12234.    nan    nan    nan    nan    nan    nan    nan]\n",
      " [13736. 13746. 13799. 13802. 13816. 13818.    nan    nan    nan    nan\n",
      "     nan    nan    nan    nan    nan    nan    nan    nan    nan    nan]\n",
      " [15320. 15334. 15339. 15699. 15701. 15817. 16828. 17034. 17336. 17346.\n",
      "  17405. 17608. 17608.    nan    nan    nan    nan    nan    nan    nan]\n",
      " [19110. 19123. 19237. 19593. 19595. 19699. 20711. 20924. 21226. 21241.\n",
      "  21299. 21503. 21503.    nan    nan    nan    nan    nan    nan    nan]\n",
      " [23007. 23029. 23314. 23676. 23678. 23782. 24655. 24664. 24665. 24666.\n",
      "     nan    nan    nan    nan    nan    nan    nan    nan    nan    nan]]\n"
     ]
    }
   ],
   "source": [
    "ntr = 5\n",
    "## Block 2: saccade\n",
    "print(f'possible samples: {np.unique(bhv.sample_id[mask_b2])}')\n",
    "print(f'possible sample location: {np.unique(bhv.pos_code[mask_b2])}')\n",
    "print(f'\\ninformation about the first {ntr} trials:')\n",
    "print(f'sample location {bhv.pos_code[mask_b2].shape}: {bhv.pos_code[mask_b2][:ntr]}')\n",
    "print(f'events code {bhv.code_numbers[mask_b2].shape}: \\n{bhv.code_numbers[mask_b2][:ntr]}')\n",
    "print(f'events time {bhv.code_samples[mask_b2].shape}: \\n{bhv.code_samples[mask_b2][:ntr]}') # All trials are aligned to start trial (code 9)"
   ]
  },
  {
   "cell_type": "code",
   "execution_count": 363,
   "metadata": {},
   "outputs": [
    {
     "name": "stdout",
     "output_type": "stream",
     "text": [
      "possible samples: [ 0. 11. 15. 51. 55.]\n",
      "possible sample location: [-1.  1.]\n",
      "\n",
      "information about the first 5 trials:\n",
      "sample id (1308,): [ 0. 55. 51. 51.  0.]\n",
      "test stimuli (1308, 5): \n",
      "[[52. nan nan nan nan]\n",
      " [58. 74. 45. 52. 55.]\n",
      " [52. nan nan nan nan]\n",
      " [nan nan nan nan nan]\n",
      " [nan nan nan nan nan]]\n",
      "test distractor (1308, 5): \n",
      "[[83. nan nan nan nan]\n",
      " [88. 22. 11. 63. 76.]\n",
      " [66. nan nan nan nan]\n",
      " [nan nan nan nan nan]\n",
      " [nan nan nan nan nan]]\n",
      "events code (1308, 20): \n",
      "[[ 9.  7. 35.  8. 23. 24. 25. 97. 36. 26. 18. nan nan nan nan nan nan nan\n",
      "  nan nan]\n",
      " [ 9.  7. 35.  8. 23. 24. 25. 26. 27. 28. 29. 30. 31. 32. 33.  4. 36. 34.\n",
      "  96. 18.]\n",
      " [ 9.  7. 35.  8. 23. 24. 25. 97. 36. 26. 18. nan nan nan nan nan nan nan\n",
      "  nan nan]\n",
      " [ 9.  7. 35.  8. 23.  4. 36. 24. 18. nan nan nan nan nan nan nan nan nan\n",
      "  nan nan]\n",
      " [ 9.  7. 35.  8. 23. 24. 97. 36. 18. nan nan nan nan nan nan nan nan nan\n",
      "  nan nan]]\n",
      "events time (1308, 20): \n",
      "[[396805. 396814. 396820. 396994. 397208. 397667. 398090. 398105. 398114.\n",
      "  398114. 398919.     nan     nan     nan     nan     nan     nan     nan\n",
      "      nan     nan]\n",
      " [400420. 400428. 400432. 400436. 400644. 401103. 401608. 402067. 402068.\n",
      "  402526. 402526. 402985. 402985. 403444. 403444. 403652. 403656. 403656.\n",
      "  403958. 403958.]\n",
      " [405460. 405468. 405479. 405629. 405844. 406303. 406750. 407083. 407091.\n",
      "  407092. 407894.     nan     nan     nan     nan     nan     nan     nan\n",
      "      nan     nan]\n",
      " [409395. 409402. 409409. 409545. 409750. 409929. 409939. 409939. 409940.\n",
      "      nan     nan     nan     nan     nan     nan     nan     nan     nan\n",
      "      nan     nan]\n",
      " [411442. 411448. 411457. 411604. 411810. 412268. 412603. 412610. 412611.\n",
      "      nan     nan     nan     nan     nan     nan     nan     nan     nan\n",
      "      nan     nan]]\n"
     ]
    }
   ],
   "source": [
    "## Block 1: DMTS\n",
    "print(f'possible samples: {np.unique(bhv.sample_id[mask_b1])}')\n",
    "print(f'possible sample location: {np.unique(bhv.pos_code[mask_b1])}')\n",
    "print(f'\\ninformation about the first {ntr} trials:')\n",
    "print(f'sample id {bhv.sample_id[mask_b1].shape}: {bhv.sample_id[mask_b1][:ntr]}')\n",
    "print(f'test stimuli {bhv.test_stimuli[mask_b1].shape}: \\n{bhv.test_stimuli[mask_b1][:ntr]}')\n",
    "print(f'test distractor {bhv.test_distractor[mask_b1].shape}: \\n{bhv.test_distractor[mask_b1][:ntr]}')\n",
    "print(f'events code {bhv.code_numbers[mask_b1].shape}: \\n{bhv.code_numbers[mask_b1][:ntr]}')\n",
    "print(f'events time {bhv.code_samples[mask_b1].shape}: \\n{bhv.code_samples[mask_b1][:ntr]}') # All trials are aligned to 1000 ms before the start of the trial"
   ]
  },
  {
   "cell_type": "markdown",
   "metadata": {},
   "source": [
    "### Evaluate performance in DMTS"
   ]
  },
  {
   "cell_type": "markdown",
   "metadata": {},
   "source": [
    "### Start with whether there was an error in the task design"
   ]
  },
  {
   "cell_type": "code",
   "execution_count": 364,
   "metadata": {},
   "outputs": [],
   "source": [
    "from ephysvibe.task.control import correct_task_errors"
   ]
  },
  {
   "cell_type": "code",
   "execution_count": 365,
   "metadata": {},
   "outputs": [
    {
     "name": "stderr",
     "output_type": "stream",
     "text": [
      "INFO:ephysvibe.task.control:No errors found.\n"
     ]
    },
    {
     "name": "stdout",
     "output_type": "stream",
     "text": [
      "[]\n",
      "[]\n",
      "[]\n",
      "[]\n"
     ]
    }
   ],
   "source": [
    "trial_errors = bhv.trial_error[mask_b1].copy()  # Working copy of trial errors\n",
    "stim_match = bhv.stim_match[mask_b1]\n",
    "test_stimuli = bhv.test_stimuli[mask_b1]\n",
    "sample_ids = bhv.sample_id[mask_b1]\n",
    "task_errors = correct_task_errors(trial_errors,stim_match,test_stimuli,sample_ids)\n",
    "idx = np.where(trial_errors!=task_errors)[0]\n",
    "print(trial_errors[idx])\n",
    "print(task_errors[idx])\n",
    "print(test_stimuli[idx])\n",
    "print(sample_ids[idx])"
   ]
  },
  {
   "cell_type": "markdown",
   "metadata": {},
   "source": [
    "#### Now we can define a matrix indicating the position of the hits,miss,FA and CR"
   ]
  },
  {
   "cell_type": "code",
   "execution_count": 366,
   "metadata": {},
   "outputs": [],
   "source": [
    "from ephysvibe.task.bhv_eval import compute_performance\n",
    "test_stimuli = bhv.test_stimuli[mask_b1]\n",
    "sample_id   = bhv.sample_id[mask_b1]\n",
    "perf=compute_performance(test_stimuli,sample_id, task_errors)"
   ]
  },
  {
   "cell_type": "code",
   "execution_count": 367,
   "metadata": {},
   "outputs": [
    {
     "data": {
      "text/plain": [
       "np.int64(98)"
      ]
     },
     "execution_count": 367,
     "metadata": {},
     "output_type": "execute_result"
    }
   ],
   "source": [
    "np.sum(task_errors==8)+np.sum(task_errors==6)"
   ]
  },
  {
   "cell_type": "code",
   "execution_count": 373,
   "metadata": {},
   "outputs": [
    {
     "data": {
      "text/plain": [
       "(array([ 0., 11., 15., 51., 55.]), array([ 3, 14, 14, 20, 11]))"
      ]
     },
     "execution_count": 373,
     "metadata": {},
     "output_type": "execute_result"
    }
   ],
   "source": [
    "np.unique(sample_id[task_errors==6],return_counts=True)"
   ]
  },
  {
   "cell_type": "code",
   "execution_count": 374,
   "metadata": {},
   "outputs": [
    {
     "data": {
      "text/plain": [
       "(array([11., 14., 15., 16., 17., 18., 21., 25., 37., 41., 43., 51., 53.,\n",
       "        55., 56., 57., 58., 61., 62., 65., 71., 75., 81., 85.]),\n",
       " array([4, 2, 3, 1, 1, 3, 1, 3, 1, 4, 1, 2, 2, 6, 3, 1, 2, 3, 2, 3, 3, 1,\n",
       "        8, 2]))"
      ]
     },
     "execution_count": 374,
     "metadata": {},
     "output_type": "execute_result"
    }
   ],
   "source": [
    "np.unique(test_stimuli[perf==4],return_counts=True)"
   ]
  },
  {
   "cell_type": "code",
   "execution_count": null,
   "metadata": {},
   "outputs": [],
   "source": []
  }
 ],
 "metadata": {
  "kernelspec": {
   "display_name": "ephys",
   "language": "python",
   "name": "python3"
  },
  "language_info": {
   "codemirror_mode": {
    "name": "ipython",
    "version": 3
   },
   "file_extension": ".py",
   "mimetype": "text/x-python",
   "name": "python",
   "nbconvert_exporter": "python",
   "pygments_lexer": "ipython3",
   "version": "3.13.0"
  }
 },
 "nbformat": 4,
 "nbformat_minor": 2
}
