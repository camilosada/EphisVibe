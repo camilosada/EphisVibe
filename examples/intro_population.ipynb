{
 "cells": [
  {
   "cell_type": "code",
   "execution_count": 1,
   "metadata": {},
   "outputs": [],
   "source": [
    "# Camila Losada - 06/02/2025"
   ]
  },
  {
   "cell_type": "markdown",
   "metadata": {},
   "source": [
    "### Example on how to use NeuronData structure\n",
    "Define functions to process populations in various useful ways.\n",
    "\n",
    "* The idea is that they receive a list of dictionaries as input. Each dictionary contains the necessary parameters to align spikes to a specific event.\n",
    "* It can also receive attributes as input that should be removed from the neuron object (the information is deleted, but the attribute itself is not removed)."
   ]
  },
  {
   "cell_type": "code",
   "execution_count": 2,
   "metadata": {},
   "outputs": [],
   "source": [
    "import numpy as np\n",
    "from joblib import Parallel, delayed\n",
    "from tqdm import tqdm\n",
    "from pathlib import Path\n",
    "from typing import Dict, List\n",
    "from ephysvibe.structures.neuron_data import NeuronData\n",
    "from ephysvibe.structures.population_data import PopulationData\n",
    "import pandas as pd\n",
    "import glob\n",
    "import platform"
   ]
  },
  {
   "cell_type": "code",
   "execution_count": 3,
   "metadata": {},
   "outputs": [],
   "source": [
    "if platform.system() == 'Linux':\n",
    "    basepath = '/envau/work/invibe/USERS/IBOS/data/Riesling/TSCM/OpenEphys/new_structure'\n",
    "elif platform.system() == 'Windows':\n",
    "    basepath = '//envau_cifs.intlocal.univ-amu.fr/work/invibe/USERS/IBOS/data/Riesling/TSCM/OpenEphys/new_structure'"
   ]
  },
  {
   "cell_type": "code",
   "execution_count": 4,
   "metadata": {},
   "outputs": [],
   "source": [
    "neu_path = basepath + \"/session_struct/lip/neurons/*neu.h5\"\n",
    "path_list = glob.glob(neu_path) # get the path of all neurons inside the folder"
   ]
  },
  {
   "cell_type": "code",
   "execution_count": 5,
   "metadata": {},
   "outputs": [],
   "source": [
    "# Define the function to read and preprocess each neuron \n",
    "def read_and_compute(path,params,rf_loc_df):\n",
    "    neu=NeuronData.from_python_hdf5(path)\n",
    "    neu=neu.get_neu_align(params=params,delete_att=['sp_samples'],rf_loc_df=rf_loc_df)\n",
    "    return neu"
   ]
  },
  {
   "cell_type": "code",
   "execution_count": 6,
   "metadata": {},
   "outputs": [],
   "source": [
    "# Define the events to align the spikes\n",
    "params = [\n",
    "    {\n",
    "        \"loc\": \"in\",\n",
    "        \"event\": \"sample_on\",\n",
    "        \"time_before\": 500,\n",
    "        \"time_after\": 1000,\n",
    "        \"select_block\": 1,\n",
    "    },\n",
    "    {\n",
    "        \"loc\": \"in\",\n",
    "        \"event\": \"test_on_1\",\n",
    "        \"time_before\": 500,\n",
    "        \"time_after\": 600,\n",
    "        \"select_block\": 1,\n",
    "    },\n",
    "    {\n",
    "        \"loc\": \"out\",\n",
    "        \"event\": \"sample_on\",\n",
    "        \"time_before\": 500,\n",
    "        \"time_after\": 1000,\n",
    "        \"select_block\": 1,\n",
    "    },\n",
    "    {\n",
    "        \"loc\": \"out\",\n",
    "        \"event\": \"test_on_1\",\n",
    "        \"time_before\": 500,\n",
    "        \"time_after\": 600,\n",
    "        \"select_block\": 1,\n",
    "    }\n",
    "]"
   ]
  },
  {
   "cell_type": "code",
   "execution_count": 7,
   "metadata": {},
   "outputs": [],
   "source": [
    "rf_loc_df=pd.read_csv(\"//envau_cifs.intlocal.univ-amu.fr/work/invibe/USERS/IBOS/data/Riesling/TSCM/OpenEphys/activation_index/rf_loc_df_lip.csv\")"
   ]
  },
  {
   "cell_type": "code",
   "execution_count": 9,
   "metadata": {},
   "outputs": [
    {
     "name": "stderr",
     "output_type": "stream",
     "text": [
      "100%|██████████| 2/2 [00:00<00:00, 122.94it/s]\n"
     ]
    }
   ],
   "source": [
    "# Preprocess all neurons\n",
    "population = Parallel(n_jobs=-1)(\n",
    "    delayed(read_and_compute)(path,params,rf_loc_df) for path in tqdm(path_list[:2])\n",
    ")"
   ]
  },
  {
   "cell_type": "code",
   "execution_count": 10,
   "metadata": {},
   "outputs": [],
   "source": [
    "# Create population object\n",
    "popu = PopulationData(population)"
   ]
  },
  {
   "cell_type": "code",
   "execution_count": 17,
   "metadata": {},
   "outputs": [
    {
     "data": {
      "text/plain": [
       "{'population': [<ephysvibe.structures.neuron_data.NeuronData at 0x173f8adafd0>,\n",
       "  <ephysvibe.structures.neuron_data.NeuronData at 0x173f8adb250>],\n",
       " 'comment': '',\n",
       " '_PopulationData__created': '06/02/2025 11:06:13'}"
      ]
     },
     "execution_count": 17,
     "metadata": {},
     "output_type": "execute_result"
    }
   ],
   "source": [
    "popu.__dict__"
   ]
  },
  {
   "cell_type": "code",
   "execution_count": 19,
   "metadata": {},
   "outputs": [
    {
     "data": {
      "text/plain": [
       "dict_keys(['date_time', 'subject', 'area', 'experiment', 'recording', 'sp_samples', 'cluster_id', 'cluster_ch', 'cluster_group', 'cluster_number', 'cluster_array_pos', 'cluster_depth', 'block', 'trial_error', 'code_samples', 'code_numbers', 'position', 'pos_code', 'sample_id', 'test_stimuli', 'test_distractor', 'rf_loc', 'sp_son_in', 'mask_son_in', 'time_before_son_in', 'sp_t1on_in', 'mask_t1on_in', 'time_before_t1on_in', 'sp_son_out', 'mask_son_out', 'time_before_son_out', 'sp_t1on_out', 'mask_t1on_out', 'time_before_t1on_out'])"
      ]
     },
     "execution_count": 19,
     "metadata": {},
     "output_type": "execute_result"
    }
   ],
   "source": [
    "i_neu = 0\n",
    "popu.population[i_neu].__dict__.keys()"
   ]
  },
  {
   "cell_type": "code",
   "execution_count": 20,
   "metadata": {},
   "outputs": [
    {
     "data": {
      "text/plain": [
       "array([[0, 0, 0, ..., 0, 0, 0],\n",
       "       [0, 0, 0, ..., 0, 0, 0],\n",
       "       [0, 0, 0, ..., 0, 0, 0],\n",
       "       ...,\n",
       "       [0, 0, 0, ..., 0, 0, 0],\n",
       "       [0, 0, 0, ..., 0, 0, 0],\n",
       "       [0, 0, 0, ..., 0, 0, 0]], dtype=int8)"
      ]
     },
     "execution_count": 20,
     "metadata": {},
     "output_type": "execute_result"
    }
   ],
   "source": [
    "popu.population[i_neu].sp_son_in"
   ]
  },
  {
   "cell_type": "code",
   "execution_count": 21,
   "metadata": {},
   "outputs": [],
   "source": [
    "# Save population\n",
    "popu.to_python_hdf5('population.h5')\n",
    "# Read population\n",
    "popu = PopulationData.from_python_hdf5('population.h5')"
   ]
  },
  {
   "cell_type": "code",
   "execution_count": 22,
   "metadata": {},
   "outputs": [
    {
     "data": {
      "text/plain": [
       "array([[0, 0, 0, ..., 0, 0, 0],\n",
       "       [0, 0, 0, ..., 0, 0, 0],\n",
       "       [0, 0, 0, ..., 0, 0, 0],\n",
       "       ...,\n",
       "       [0, 0, 0, ..., 0, 0, 0],\n",
       "       [0, 0, 0, ..., 0, 0, 0],\n",
       "       [0, 0, 0, ..., 0, 0, 0]], dtype=int8)"
      ]
     },
     "execution_count": 22,
     "metadata": {},
     "output_type": "execute_result"
    }
   ],
   "source": [
    "popu.population[i_neu].sp_son_in"
   ]
  },
  {
   "cell_type": "code",
   "execution_count": null,
   "metadata": {},
   "outputs": [],
   "source": []
  }
 ],
 "metadata": {
  "kernelspec": {
   "display_name": "ephys",
   "language": "python",
   "name": "python3"
  },
  "language_info": {
   "codemirror_mode": {
    "name": "ipython",
    "version": 3
   },
   "file_extension": ".py",
   "mimetype": "text/x-python",
   "name": "python",
   "nbconvert_exporter": "python",
   "pygments_lexer": "ipython3",
   "version": "3.13.0"
  }
 },
 "nbformat": 4,
 "nbformat_minor": 2
}
